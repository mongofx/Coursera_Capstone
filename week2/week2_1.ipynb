{
 "cells": [
  {
   "cell_type": "markdown",
   "metadata": {},
   "source": [
    "### INTRODUCTION\n",
    "One of the most important problems today is Road Safety. \n",
    "Road accidents can be serious or even fatal. The aim of this project is to build a model that predicts the severity of road accidents in Seattle City with attributes as light conditions and weather.  \n",
    "\n",
    "The target audience of this project would be the local athorities for them to help and predict the area / address where road accidents may accure in the future backed by former data. This could later on lead to applying new road safety measures for the specific areas."
   ]
  },
  {
   "cell_type": "markdown",
   "metadata": {},
   "source": [
    "### DATA\n",
    "The data used for this study is provided by Coursera and can be found by clicking the following link: \n",
    "https://s3.us.cloud-object-storage.appdomain.cloud/cf-courses-data/CognitiveClass/DP0701EN/version-2/Data-Collisions.csv\n",
    "\n",
    "#### The features used will be: \n",
    "\n",
    "• SEVERITYCODE   \n",
    "• ADDRTYPE   \n",
    "• JUNCTIONTYPE   \n",
    "• SDOT_COLDESC (Description of the collision)  \n",
    "• WEATHER  \n",
    "• LIGHTCOND \n",
    "\n",
    "The dataset has information gathered on the road traffic accidents of Seattle City. The initial dataset consists of 38 columns (features/attributes) and 194673 rows. Python packages will be used to conduct this study. The dataset will be cleaned according to the requirements of this project. Missing data information will either be substituted using valid means or dropped, considering the amount of missing data and the description of individual elements."
   ]
  },
  {
   "cell_type": "code",
   "execution_count": null,
   "metadata": {},
   "outputs": [],
   "source": []
  }
 ],
 "metadata": {
  "kernelspec": {
   "display_name": "Python 3",
   "language": "python",
   "name": "python3"
  },
  "language_info": {
   "codemirror_mode": {
    "name": "ipython",
    "version": 3
   },
   "file_extension": ".py",
   "mimetype": "text/x-python",
   "name": "python",
   "nbconvert_exporter": "python",
   "pygments_lexer": "ipython3",
   "version": "3.7.6"
  }
 },
 "nbformat": 4,
 "nbformat_minor": 4
}
