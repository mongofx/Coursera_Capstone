{
 "cells": [
  {
   "cell_type": "markdown",
   "metadata": {},
   "source": [
    "### INTRODUCTION\n",
    "One of the most important problems today is Road Safety. \n",
    "Road accidents can be serious or even fatal. The aim of this project is to build a model that predicts the severity of road accidents in Seattle City with attributes as light conditions and weather.  \n",
    "\n",
    "The target audience of this project would be the local athorities for them to help and predict the area / address where road accidents may accure in the future backed by former data. This could later on lead to applying new road safety measures for the specific areas."
   ]
  },
  {
   "cell_type": "markdown",
   "metadata": {},
   "source": [
    "### DATA UNDERSTANDING\n",
    "\n",
    "This is an extensive data set from the Seattle Police Department, with over 190,000 observations collected over the last 15+ years.\n",
    "\n",
    "In an effort to reduce the frequency of car collisions in a community, an algorithim must be developed to predict the severity of an accident given the current weather, road and visibility conditions. When conditions are bad, this model will alert drivers to remind them to be more careful.\n",
    "\n",
    "Our predictor or target variable will be 'SEVERITYCODE' because it is used measure the severity of an accident from 0 to 5 within the dataset. Attributes used to weigh the severity of an accident are 'ADDRTYPE', 'JUNCTIONTYPE', 'SDOT_COLDESC' (Description of the collision), 'WEATHER' and 'LIGHTCOND'.\n",
    "\n",
    "Severity codes are as follows:\n",
    "\n",
    "1 : Very Low Probablility - Chance or Property Damage\n",
    "\n",
    "2 : Low Probability - Chance of Injury\n",
    "\n",
    "3 : Mild Probability - Chance of Serious Injury\n",
    "\n",
    "4 : High Probability - Chance of Fatality\n",
    "\n",
    "In it's original form, this data is not the best fit for analysis. We must clean the data for our desires to make the best predictions possible. \n",
    "\n",
    "We use Jupyter Notebooks to conduct the analysis and all strats with importing all the necessary Python libraries like Pandas, Numpy, Matplotlib.\n",
    "\n",
    "The data used for this study is provided by Coursera and can be found by clicking the following link: \n",
    "https://s3.us.cloud-object-storage.appdomain.cloud/cf-courses-data/CognitiveClass/DP0701EN/version-2/Data-Collisions.csv\n"
   ]
  },
  {
   "cell_type": "code",
   "execution_count": null,
   "metadata": {},
   "outputs": [],
   "source": []
  }
 ],
 "metadata": {
  "kernelspec": {
   "display_name": "Python 3",
   "language": "python",
   "name": "python3"
  },
  "language_info": {
   "codemirror_mode": {
    "name": "ipython",
    "version": 3
   },
   "file_extension": ".py",
   "mimetype": "text/x-python",
   "name": "python",
   "nbconvert_exporter": "python",
   "pygments_lexer": "ipython3",
   "version": "3.7.6"
  }
 },
 "nbformat": 4,
 "nbformat_minor": 4
}
